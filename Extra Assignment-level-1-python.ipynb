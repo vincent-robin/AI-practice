{
 "cells": [
  {
   "cell_type": "code",
   "execution_count": 1,
   "id": "b7bd9c9c-3c19-4821-bb52-9427adbaa9ec",
   "metadata": {},
   "outputs": [
    {
     "name": "stdout",
     "output_type": "stream",
     "text": [
      "HOPE AI\n"
     ]
    }
   ],
   "source": [
    "print(\"HOPE AI\")"
   ]
  },
  {
   "cell_type": "code",
   "execution_count": 3,
   "id": "7c05edc5-a18e-4d0c-bc28-839541dc476d",
   "metadata": {},
   "outputs": [
    {
     "name": "stdin",
     "output_type": "stream",
     "text": [
      "Enter your institute name? :  Hope\n"
     ]
    },
    {
     "name": "stdout",
     "output_type": "stream",
     "text": [
      "Hope\n"
     ]
    }
   ],
   "source": [
    "print(input(\"Enter your institute name? : \"))"
   ]
  },
  {
   "cell_type": "code",
   "execution_count": 4,
   "id": "0bf60086-1b18-4e50-a18e-b21ceee5aba6",
   "metadata": {
    "scrolled": true
   },
   "outputs": [
    {
     "name": "stdin",
     "output_type": "stream",
     "text": [
      "Enter your name: vincent\n",
      "Enter your age: 10\n",
      "Enter your school name: vincent school\n",
      "Enter your drgree: my degree\n"
     ]
    },
    {
     "data": {
      "text/plain": [
       "'my degree'"
      ]
     },
     "execution_count": 4,
     "metadata": {},
     "output_type": "execute_result"
    }
   ],
   "source": [
    "# Enter your name: Raj \n",
    "# Enter your age: 15 \n",
    "# Enter your school name: Guru school \n",
    "# Enter your drgree: B.E CSE\n",
    "\n",
    "input(\"Enter your name:\")\n",
    "int(input(\"Enter your age:\"))\n",
    "input(\"Enter your school name:\")\n",
    "input(\"Enter your drgree:\")\n",
    "      "
   ]
  },
  {
   "cell_type": "code",
   "execution_count": 6,
   "id": "2670f940-dfd5-4504-b917-4aef61e86bae",
   "metadata": {},
   "outputs": [
    {
     "name": "stdout",
     "output_type": "stream",
     "text": [
      "add = 77\n"
     ]
    }
   ],
   "source": [
    "a = 43\n",
    "b= 34\n",
    "print( \"add =\", a+b)"
   ]
  },
  {
   "cell_type": "code",
   "execution_count": 7,
   "id": "e815b7e8-28b8-4e5f-b1a5-44da0f00f074",
   "metadata": {},
   "outputs": [
    {
     "name": "stdout",
     "output_type": "stream",
     "text": [
      "sub = 9\n"
     ]
    }
   ],
   "source": [
    "a = 43\n",
    "b= 34\n",
    "print( \"sub =\", a-b)"
   ]
  },
  {
   "cell_type": "code",
   "execution_count": 8,
   "id": "2354f061-91ca-44fe-8218-3d8a243c91bc",
   "metadata": {},
   "outputs": [
    {
     "name": "stdout",
     "output_type": "stream",
     "text": [
      "mul = 6111\n"
     ]
    }
   ],
   "source": [
    "a = 63\n",
    "b= 97\n",
    "print( \"mul =\", a*b)"
   ]
  },
  {
   "cell_type": "code",
   "execution_count": 9,
   "id": "d08141df-6905-44b9-9071-30264f66d663",
   "metadata": {},
   "outputs": [
    {
     "name": "stdout",
     "output_type": "stream",
     "text": [
      "FLoat div = 2.4516129032258065\n"
     ]
    }
   ],
   "source": [
    "a = 76\n",
    "b= 31\n",
    "print( \"FLoat div =\", a/b)"
   ]
  },
  {
   "cell_type": "code",
   "execution_count": 11,
   "id": "e8f73de9-aa79-461d-be77-78da5ab2fd8f",
   "metadata": {},
   "outputs": [
    {
     "name": "stdout",
     "output_type": "stream",
     "text": [
      "modulo = 14\n"
     ]
    }
   ],
   "source": [
    "a = 76\n",
    "b= 31\n",
    "print( \"modulo =\", a%b)"
   ]
  },
  {
   "cell_type": "code",
   "execution_count": 14,
   "id": "73863914-2108-4351-81ab-5700278970ef",
   "metadata": {},
   "outputs": [
    {
     "name": "stdout",
     "output_type": "stream",
     "text": [
      "power = 256\n"
     ]
    }
   ],
   "source": [
    "a = 4\n",
    "b= 4\n",
    "print( \"power =\", pow(a,b))"
   ]
  },
  {
   "cell_type": "code",
   "execution_count": null,
   "id": "6a723226-978d-42b0-8166-c3a96a98b612",
   "metadata": {},
   "outputs": [],
   "source": []
  }
 ],
 "metadata": {
  "kernelspec": {
   "display_name": "Python [conda env:base] *",
   "language": "python",
   "name": "conda-base-py"
  },
  "language_info": {
   "codemirror_mode": {
    "name": "ipython",
    "version": 3
   },
   "file_extension": ".py",
   "mimetype": "text/x-python",
   "name": "python",
   "nbconvert_exporter": "python",
   "pygments_lexer": "ipython3",
   "version": "3.13.5"
  }
 },
 "nbformat": 4,
 "nbformat_minor": 5
}
