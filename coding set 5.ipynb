{
 "cells": [
  {
   "cell_type": "code",
   "execution_count": 5,
   "id": "a2bfbf44",
   "metadata": {},
   "outputs": [
    {
     "name": "stdout",
     "output_type": "stream",
     "text": [
      "['APPLE', 'BANANA', 'CHERRY']\n"
     ]
    }
   ],
   "source": [
    "#1. Convert a List of Strings to Uppercase\n",
    "# Question: Write a Python program to convert all strings in the list [\"apple\", \"banana\", \"cherry\"] to uppercase.\n",
    "\n",
    "dataList=  [\"apple\", \"banana\", \"cherry\"]\n",
    "\n",
    "list2 =[]\n",
    "for d in dataList:\n",
    "    temp= d.upper()\n",
    "    list2.append(temp)\n",
    "    \n",
    "print(list2)\n"
   ]
  },
  {
   "cell_type": "code",
   "execution_count": 10,
   "id": "d73fd504",
   "metadata": {},
   "outputs": [
    {
     "name": "stdout",
     "output_type": "stream",
     "text": [
      "{'a': 10, 'b': 20, 'c': 30, 'd': 40}\n"
     ]
    }
   ],
   "source": [
    "#2. Merge Two Dictionaries\n",
    "# Question: Write a Python program to merge two dictionaries:\n",
    "\n",
    "dict1 = {'a': 10, 'b': 20}  \n",
    "dict2 = {'c': 30, 'd': 40}\n",
    "dict3 = dict1 | dict2\n",
    "\n",
    "print(dict3)\n"
   ]
  },
  {
   "cell_type": "code",
   "execution_count": 11,
   "id": "86dc2aa1",
   "metadata": {},
   "outputs": [
    {
     "name": "stdout",
     "output_type": "stream",
     "text": [
      "[4, 5]\n"
     ]
    }
   ],
   "source": [
    "#3. Find the Intersection of Two Lists\n",
    "# Question: Write a Python program to find the common elements between the two lists:\n",
    "\n",
    "\n",
    "list1 = [1, 2, 3, 4, 5]  \n",
    "list2 = [4, 5, 6, 7, 8]\n",
    "\n",
    "list3 =[]\n",
    "for n in list1:\n",
    "    if(n in list2):\n",
    "        list3.append(n)\n",
    "        \n",
    "print(list3)        "
   ]
  },
  {
   "cell_type": "code",
   "execution_count": 14,
   "id": "1e2f6e55",
   "metadata": {},
   "outputs": [
    {
     "name": "stdout",
     "output_type": "stream",
     "text": [
      " Python - 6 length\n",
      " is - 2 length\n",
      " fun - 3 length\n",
      " and - 3 length\n",
      " powerful - 8 length\n"
     ]
    }
   ],
   "source": [
    "#4. Find the Length of Each Word in a Sentence\n",
    "# Question: Write a Python program to print the length of each word in the sentence \"Python is fun and powerful\".\n",
    "\n",
    "txt =\"Python is fun and powerful\"\n",
    "listTxt = txt.split()\n",
    "\n",
    "\n",
    "\n",
    "for t in listTxt:\n",
    "    print(f\" {t} - {len(t)} length\")\n"
   ]
  },
  {
   "cell_type": "code",
   "execution_count": 17,
   "id": "6c7c45d2",
   "metadata": {},
   "outputs": [
    {
     "name": "stdout",
     "output_type": "stream",
     "text": [
      "45\n"
     ]
    }
   ],
   "source": [
    "#5. Find the Sum of All Elements in a 2D List\n",
    "# Question: Write a Python program to find the sum of all elements in the 2D list:\n",
    "\n",
    "\n",
    "matrix = [[1, 2, 3], [4, 5, 6], [7, 8, 9]]\n",
    "\n",
    "total =0\n",
    "for row in matrix:\n",
    "    for n in row:\n",
    "        total += n\n",
    "        \n",
    "print(total)"
   ]
  },
  {
   "cell_type": "code",
   "execution_count": null,
   "id": "1f196fda-13f7-4077-aded-12edc398a352",
   "metadata": {},
   "outputs": [],
   "source": []
  }
 ],
 "metadata": {
  "kernelspec": {
   "display_name": "Python [conda env:base] *",
   "language": "python",
   "name": "conda-base-py"
  },
  "language_info": {
   "codemirror_mode": {
    "name": "ipython",
    "version": 3
   },
   "file_extension": ".py",
   "mimetype": "text/x-python",
   "name": "python",
   "nbconvert_exporter": "python",
   "pygments_lexer": "ipython3",
   "version": "3.13.5"
  }
 },
 "nbformat": 4,
 "nbformat_minor": 5
}
