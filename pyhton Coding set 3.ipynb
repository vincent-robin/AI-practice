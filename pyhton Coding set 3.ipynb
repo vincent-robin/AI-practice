{
 "cells": [
  {
   "cell_type": "code",
   "execution_count": 2,
   "id": "511e5dbe",
   "metadata": {},
   "outputs": [
    {
     "name": "stdout",
     "output_type": "stream",
     "text": [
      "1 4 9 16 25 "
     ]
    }
   ],
   "source": [
    "#1. Square of Numbers from 1 to 5\n",
    "# Output:\n",
    "# 1 4 9 16 25\n",
    "\n",
    "for n in range(1,6):\n",
    "    print(n ** 2, end =\" \")\n"
   ]
  },
  {
   "cell_type": "code",
   "execution_count": 3,
   "id": "e886abee",
   "metadata": {},
   "outputs": [
    {
     "name": "stdout",
     "output_type": "stream",
     "text": [
      "10 5\n"
     ]
    }
   ],
   "source": [
    "#2.Swap Two Variables Without Using a Temporary Variable\n",
    "# Question: Write a Python program to swap two variables a = 5 and b = 10 without using a temporary variable.\n",
    "\n",
    "a= 5\n",
    "b=10\n",
    "\n",
    "a =a+b\n",
    "b= a-b\n",
    "a= a -b\n",
    "\n",
    "print(a,b)\n"
   ]
  },
  {
   "cell_type": "code",
   "execution_count": 4,
   "id": "adfc0479",
   "metadata": {},
   "outputs": [
    {
     "name": "stdout",
     "output_type": "stream",
     "text": [
      "[17, 19, 35, 56]\n",
      "[12, 24, 40]\n"
     ]
    }
   ],
   "source": [
    " #3.Find Even and Odd Numbers in a List\n",
    "# Question: Write a Python program to separate even and odd numbers from the list [12, 17, 19, 24, 35, 40, 56].\n",
    "\n",
    "numList = [12, 17, 19, 24, 35, 40, 56]\n",
    "\n",
    "evenList=[]\n",
    "\n",
    "for n in numList:\n",
    "    if(n % 2 ==0):\n",
    "        evenList.append(n)\n",
    "        numList.remove(n)\n",
    "print(numList)\n",
    "print(evenList)\n",
    "        \n"
   ]
  },
  {
   "cell_type": "code",
   "execution_count": 5,
   "id": "9bd0afd7",
   "metadata": {},
   "outputs": [
    {
     "name": "stdout",
     "output_type": "stream",
     "text": [
      "54321\n"
     ]
    }
   ],
   "source": [
    "#4. Reverse a Number\n",
    "# Question: Write a Python program to reverse the number 12345.\n",
    "n=12345\n",
    "print(int(str(n)[::-1]))\n"
   ]
  },
  {
   "cell_type": "code",
   "execution_count": 6,
   "id": "baf1f666",
   "metadata": {},
   "outputs": [
    {
     "name": "stdout",
     "output_type": "stream",
     "text": [
      "45\n"
     ]
    }
   ],
   "source": [
    "#5. Find the Second Largest Number in a List\n",
    "# Question: Write a Python program to find the second largest number in the list [12, 45, 98, 34, 23].\n",
    "\n",
    "nList =[12, 45, 98, 34, 23]\n",
    "nList.sort()\n",
    "print(nList[len(nList)-2])"
   ]
  },
  {
   "cell_type": "code",
   "execution_count": null,
   "id": "eb6e77d2",
   "metadata": {},
   "outputs": [],
   "source": []
  },
  {
   "cell_type": "code",
   "execution_count": null,
   "id": "cf27438f",
   "metadata": {},
   "outputs": [],
   "source": []
  },
  {
   "cell_type": "code",
   "execution_count": null,
   "id": "8a8e84b3",
   "metadata": {},
   "outputs": [],
   "source": []
  },
  {
   "cell_type": "code",
   "execution_count": null,
   "id": "a73f86c4",
   "metadata": {},
   "outputs": [],
   "source": []
  }
 ],
 "metadata": {
  "kernelspec": {
   "display_name": "Python [conda env:base] *",
   "language": "python",
   "name": "conda-base-py"
  },
  "language_info": {
   "codemirror_mode": {
    "name": "ipython",
    "version": 3
   },
   "file_extension": ".py",
   "mimetype": "text/x-python",
   "name": "python",
   "nbconvert_exporter": "python",
   "pygments_lexer": "ipython3",
   "version": "3.13.5"
  }
 },
 "nbformat": 4,
 "nbformat_minor": 5
}
