{
 "cells": [
  {
   "cell_type": "code",
   "execution_count": 3,
   "id": "66b19c34-0f5f-44b8-b6ef-96494b9fc7f0",
   "metadata": {},
   "outputs": [],
   "source": [
    "def subfields():\n",
    "    dateList=[ \"Sub-fields in AI are:\",\"Machine Learning\",\"Neural Networks\",\"Vision\",\n",
    "          \"Robotics\",\"Speech Processing\",\"Natural Language Processing\"]\n",
    "    for item in dateList:\n",
    "        print(item)"
   ]
  },
  {
   "cell_type": "code",
   "execution_count": 4,
   "id": "3d277c20-9b5f-478d-8c0b-55e86587f010",
   "metadata": {},
   "outputs": [
    {
     "name": "stdout",
     "output_type": "stream",
     "text": [
      "Sub-fields in AI are:\n",
      "Machine Learning\n",
      "Neural Networks\n",
      "Vision\n",
      "Robotics\n",
      "Speech Processing\n",
      "Natural Language Processing\n"
     ]
    }
   ],
   "source": [
    "subfields()"
   ]
  },
  {
   "cell_type": "code",
   "execution_count": 10,
   "id": "71614c56-89f6-4050-8561-6e8cb4169b8e",
   "metadata": {},
   "outputs": [],
   "source": [
    "class OddEven:\n",
    "\n",
    "    @staticmethod\n",
    "    def oddOrEven(num):\n",
    "        if(num %2 == 0 ):\n",
    "            print( \"it's even\")\n",
    "        else:\n",
    "            print(\"it's odd\")\n",
    "        "
   ]
  },
  {
   "cell_type": "code",
   "execution_count": 11,
   "id": "7ebcba43-db0e-487b-a97c-d23428860001",
   "metadata": {},
   "outputs": [
    {
     "name": "stdin",
     "output_type": "stream",
     "text": [
      "Enter the number 111\n"
     ]
    },
    {
     "name": "stdout",
     "output_type": "stream",
     "text": [
      "it's odd\n"
     ]
    }
   ],
   "source": [
    "num = int(input(\"Enter the number\"))\n",
    "output = OddEven().oddOrEven(num)\n",
    "# print(output)"
   ]
  },
  {
   "cell_type": "code",
   "execution_count": 15,
   "id": "fa03eaab-85b4-4544-bf6b-e6d4291d2050",
   "metadata": {},
   "outputs": [],
   "source": [
    "class elegiblityForMarriage:\n",
    "\n",
    "    @staticmethod\n",
    "    def elegible(gender, age):\n",
    "        if((gender.lower() == \"male\" and age > 21) or\n",
    "          (gender.lower() == \"female\" and age > 17)):\n",
    "            op = \"eligible\"\n",
    "        else:\n",
    "            op =\"not eligible\"\n",
    "        \n",
    "        return  op\n",
    "                \n",
    "            \n",
    "            \n",
    "        "
   ]
  },
  {
   "cell_type": "code",
   "execution_count": 17,
   "id": "240991bb-50a6-4edf-ac4e-e85611015aa8",
   "metadata": {},
   "outputs": [
    {
     "name": "stdin",
     "output_type": "stream",
     "text": [
      "enter your gender female\n",
      "enter your age 17\n"
     ]
    },
    {
     "name": "stdout",
     "output_type": "stream",
     "text": [
      "not eligible\n"
     ]
    }
   ],
   "source": [
    "gender = input(\"enter your gender\")\n",
    "age = int(input(\"enter your age\"))\n",
    "\n",
    "print(elegiblityForMarriage().elegible(gender, age))"
   ]
  },
  {
   "cell_type": "code",
   "execution_count": 22,
   "id": "81f62ec5-11f0-4762-b04e-2eadadd1c449",
   "metadata": {},
   "outputs": [],
   "source": [
    "class findPercent:\n",
    "\n",
    "    @staticmethod\n",
    "    def percentage(lists):\n",
    "        total=0\n",
    "        for n in lists:\n",
    "            total = total+n\n",
    "\n",
    "        print(total/len(lists))\n",
    "              \n",
    "       "
   ]
  },
  {
   "cell_type": "code",
   "execution_count": 23,
   "id": "518b2270-82d8-45f7-a1ee-29fca7371649",
   "metadata": {},
   "outputs": [
    {
     "name": "stdout",
     "output_type": "stream",
     "text": [
      "97.33333333333333\n"
     ]
    }
   ],
   "source": [
    "score =[95,98,99]\n",
    "findPercent().percentage(score)"
   ]
  },
  {
   "cell_type": "code",
   "execution_count": 27,
   "id": "77c9cf6a-06f1-4784-a605-a1c649b98302",
   "metadata": {},
   "outputs": [],
   "source": [
    "class triangle:\n",
    "    @staticmethod\n",
    "    def findPerimeter(h1,h2 ,b):\n",
    "        \n",
    "        areaOfTri= (h1*b)/2\n",
    "        print(areaOfTri)\n",
    "        \n",
    "        perimeter= h1+h2+b\n",
    "        print(perimeter)\n",
    "    "
   ]
  },
  {
   "cell_type": "code",
   "execution_count": 29,
   "id": "c4385096-bde9-4da2-851b-c14c233df54c",
   "metadata": {},
   "outputs": [
    {
     "name": "stdout",
     "output_type": "stream",
     "text": [
      "17.5\n",
      "19\n"
     ]
    }
   ],
   "source": [
    "triangle().findPerimeter(5,7,7)"
   ]
  },
  {
   "cell_type": "code",
   "execution_count": null,
   "id": "3d917d3b-07c7-44d8-adfc-418b24454706",
   "metadata": {},
   "outputs": [],
   "source": []
  }
 ],
 "metadata": {
  "kernelspec": {
   "display_name": "Python [conda env:base] *",
   "language": "python",
   "name": "conda-base-py"
  },
  "language_info": {
   "codemirror_mode": {
    "name": "ipython",
    "version": 3
   },
   "file_extension": ".py",
   "mimetype": "text/x-python",
   "name": "python",
   "nbconvert_exporter": "python",
   "pygments_lexer": "ipython3",
   "version": "3.13.5"
  }
 },
 "nbformat": 4,
 "nbformat_minor": 5
}
