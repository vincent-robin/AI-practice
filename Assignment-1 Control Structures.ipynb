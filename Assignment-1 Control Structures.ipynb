{
 "cells": [
  {
   "cell_type": "code",
   "execution_count": 1,
   "id": "bc0d5ff4-9943-492b-a32c-2a2e0201a5b0",
   "metadata": {},
   "outputs": [
    {
     "name": "stdout",
     "output_type": "stream",
     "text": [
      "Welcome to Assignment-1\n"
     ]
    }
   ],
   "source": [
    "print(\"Welcome to Assignment-1\")"
   ]
  },
  {
   "cell_type": "code",
   "execution_count": 3,
   "id": "bc82870e-76c8-4701-a7a3-68fa954a6c42",
   "metadata": {},
   "outputs": [],
   "source": [
    " # Num1= 10\n",
    " # Num2= 30\n",
    " # Add= 40"
   ]
  },
  {
   "cell_type": "code",
   "execution_count": 10,
   "id": "8d5c0c4e-b15c-41f2-a970-ab16dd34ed0a",
   "metadata": {},
   "outputs": [
    {
     "name": "stdout",
     "output_type": "stream",
     "text": [
      "Num1 = 10\n",
      "Num2 = 30\n",
      "add = 40\n"
     ]
    }
   ],
   "source": [
    "Num1 =10\n",
    "Num2 =30\n",
    "add = Num1 +Num2\n",
    "print(\"Num1 =\",Num1)\n",
    "print(\"Num2 =\",Num2)\n",
    "print(\"add =\",add)"
   ]
  },
  {
   "cell_type": "code",
   "execution_count": 14,
   "id": "a3435c99-9b3a-4568-b338-ddf5f7c5672b",
   "metadata": {},
   "outputs": [
    {
     "name": "stdin",
     "output_type": "stream",
     "text": [
      "Enter the BMI Index 17\n"
     ]
    }
   ],
   "source": [
    "# Enter the BMI Index:34\n",
    "# Very Overweight\n",
    "\n",
    "bmi = int(input(\"Enter the BMI Index\"))\n",
    "    "
   ]
  },
  {
   "cell_type": "code",
   "execution_count": 15,
   "id": "8c2225b9-24c6-4e2d-8e5f-0baa91aeb310",
   "metadata": {},
   "outputs": [
    {
     "name": "stdout",
     "output_type": "stream",
     "text": [
      "Lean\n"
     ]
    }
   ],
   "source": [
    "if(bmi <19):\n",
    "    print(\"Lean\")\n",
    "elif(19 < bmi <= 24):\n",
    "    print(\"Normal\")\n",
    "elif(24 < bmi <= 30):\n",
    "    print(\"Overweight\")\n",
    "else:\n",
    "    print(\"Very Overweight\")  "
   ]
  }
 ],
 "metadata": {
  "kernelspec": {
   "display_name": "Python [conda env:base] *",
   "language": "python",
   "name": "conda-base-py"
  },
  "language_info": {
   "codemirror_mode": {
    "name": "ipython",
    "version": 3
   },
   "file_extension": ".py",
   "mimetype": "text/x-python",
   "name": "python",
   "nbconvert_exporter": "python",
   "pygments_lexer": "ipython3",
   "version": "3.13.5"
  }
 },
 "nbformat": 4,
 "nbformat_minor": 5
}
