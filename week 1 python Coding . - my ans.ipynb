{
 "cells": [
  {
   "cell_type": "code",
   "execution_count": 3,
   "id": "5fd5c475",
   "metadata": {},
   "outputs": [
    {
     "name": "stdout",
     "output_type": "stream",
     "text": [
      "1\n",
      "2\n",
      "3\n",
      "4\n",
      "5\n",
      "1 2 3 4 5 "
     ]
    }
   ],
   "source": [
    "# 1.Write a Python program that prints numbers from 1 to 5.\n",
    "# Expected Output:\n",
    "# 1 2 3 4 5\n",
    "\n",
    "for i in range (1,6):\n",
    "    print(i)\n",
    "\n",
    "for i in range (1,6):\n",
    "    print(i,end=\" \")    \n"
   ]
  },
  {
   "cell_type": "code",
   "execution_count": 9,
   "id": "3c8bc472",
   "metadata": {},
   "outputs": [
    {
     "name": "stdout",
     "output_type": "stream",
     "text": [
      "[2, 4, 6, 8, 10]\n"
     ]
    }
   ],
   "source": [
    "# 2.Write a Python program to print the first 5 even numbers. Expected Output:\n",
    "# 2 4 6 8 10\n",
    "\n",
    "evenNum = []\n",
    "num =1\n",
    "\n",
    "while len(evenNum) <= 4 :\n",
    "    if(num % 2 == 0):\n",
    "        evenNum.append(num)\n",
    "    num = num+1\n",
    "\n",
    "\n",
    "print(evenNum)\n",
    "\n"
   ]
  },
  {
   "cell_type": "code",
   "execution_count": 14,
   "id": "5e7af211",
   "metadata": {},
   "outputs": [
    {
     "name": "stdout",
     "output_type": "stream",
     "text": [
      "55\n",
      "55\n"
     ]
    }
   ],
   "source": [
    "# 3.Write a Python program to print the sum of numbers from 1 to 10. \n",
    "# Expected Output:55\n",
    "\n",
    "output=0\n",
    "for i in range(1,11):\n",
    "    output = output+ i\n",
    "    \n",
    "print(output)\n",
    "\n",
    "print (sum(range(1,11)))\n"
   ]
  },
  {
   "cell_type": "code",
   "execution_count": 18,
   "id": "ac09aa1a",
   "metadata": {},
   "outputs": [
    {
     "name": "stdout",
     "output_type": "stream",
     "text": [
      "120\n"
     ]
    }
   ],
   "source": [
    "# 4.Write a Python function to find the factorial of 5. Expected Output:\n",
    "# 120\n",
    "factori = 1\n",
    "for n in range(5,1,-1):\n",
    "    factori *= n\n",
    "\n",
    "print(factori)"
   ]
  },
  {
   "cell_type": "code",
   "execution_count": 24,
   "id": "8ab9fc8a",
   "metadata": {},
   "outputs": [
    {
     "name": "stdout",
     "output_type": "stream",
     "text": [
      "$num its not prime No\n"
     ]
    }
   ],
   "source": [
    "# 5.Write a Python program to check if a number is prime. Expected Output (for input 7):\n",
    "# 7 is a prime number\n",
    "num =12\n",
    "outpt= \"$num its prime No\"\n",
    "for n in range(num-1,2,-1):\n",
    "    if(num % n ==0):\n",
    "        outpt=  \"$num its not prime No\"\n",
    "\n",
    "print(outpt)\n",
    "\n",
    "# (num/2) +1 for reduce iteration\n"
   ]
  },
  {
   "cell_type": "code",
   "execution_count": null,
   "id": "a7f8812d-8fb3-4d0f-a00b-151a1179b370",
   "metadata": {},
   "outputs": [],
   "source": []
  }
 ],
 "metadata": {
  "kernelspec": {
   "display_name": "Python [conda env:base] *",
   "language": "python",
   "name": "conda-base-py"
  },
  "language_info": {
   "codemirror_mode": {
    "name": "ipython",
    "version": 3
   },
   "file_extension": ".py",
   "mimetype": "text/x-python",
   "name": "python",
   "nbconvert_exporter": "python",
   "pygments_lexer": "ipython3",
   "version": "3.13.5"
  }
 },
 "nbformat": 4,
 "nbformat_minor": 5
}
