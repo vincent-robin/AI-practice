{
 "cells": [
  {
   "cell_type": "code",
   "execution_count": 24,
   "id": "236d4978",
   "metadata": {
    "id": "236d4978"
   },
   "outputs": [
    {
     "name": "stdout",
     "output_type": "stream",
     "text": [
      "12\n"
     ]
    }
   ],
   "source": [
    "#1.Find the GCD of Two Numbers\n",
    "# Question: Write a Python program to find the Greatest Common Divisor (GCD) of 36 and 60.\n",
    "\n",
    "import math\n",
    "a = math.gcd(36,60)\n",
    "print(a)\n"
   ]
  },
  {
   "cell_type": "code",
   "execution_count": 1,
   "id": "e1bfc6af",
   "metadata": {
    "id": "e1bfc6af"
   },
   "outputs": [
    {
     "name": "stdout",
     "output_type": "stream",
     "text": [
      "24\n"
     ]
    }
   ],
   "source": [
    "#2. Find the Sum of Digits of a Number\n",
    "# Question: Write a Python program to find the sum of the digits of the number 987.\n",
    "\n",
    "a= 987\n",
    "b= str(a)\n",
    "c =0\n",
    "for i in b:\n",
    "    c += int(i)\n",
    "\n",
    "print(c)"
   ]
  },
  {
   "cell_type": "code",
   "execution_count": 39,
   "id": "e051bb22",
   "metadata": {
    "id": "e051bb22"
   },
   "outputs": [
    {
     "name": "stdout",
     "output_type": "stream",
     "text": [
      "[1, 2, 3, 4, 5, 6, 7, 8, 9, 153, 370, 371, 407]\n"
     ]
    }
   ],
   "source": [
    "#3. Find All Armstrong Numbers Between 1 and 1000\n",
    "# Question: Write a Python program to print all Armstrong numbers between 1 and 1000.\n",
    "listData =[]\n",
    "for n in range (1,1000):\n",
    "    stringInt = str(n)\n",
    "    if(len(stringInt) ==1 ):\n",
    "        listData.append(n)\n",
    "    else:\n",
    "        sumValue = 0\n",
    "        for c in stringInt:\n",
    "            # print (\"sum\" ,sumValue)\n",
    "            # print (n ,c )\n",
    "            # print((\"len\",len(stringInt)))\n",
    "            sumValue += int(c)** (len(stringInt))\n",
    "        if(sumValue ==n):\n",
    "             listData.append(n)\n",
    "            \n",
    "print(listData)    \n",
    "      \n"
   ]
  },
  {
   "cell_type": "code",
   "execution_count": 49,
   "id": "dbffe07b",
   "metadata": {
    "id": "dbffe07b"
   },
   "outputs": [
    {
     "name": "stdout",
     "output_type": "stream",
     "text": [
      "{'p': 1, 'r': 2, 'o': 1, 'g': 2, 'a': 1, 'm': 2, 'i': 1, 'n': 1}\n"
     ]
    }
   ],
   "source": [
    "#4.Count the Frequency of Each Character in a String\n",
    "# Question: Write a Python program to count the frequency of each character in \"programming\".\n",
    "\n",
    "\n",
    "d={}\n",
    "\n",
    "\n",
    "txt =\"programming\"\n",
    "for c in txt:\n",
    "    # if \"a\" in d:\n",
    "    #     print(\"a\")\n",
    "    # elif 1 in d:\n",
    "    #     print(\"b\")\n",
    "\n",
    "    \n",
    "    # print(c)\n",
    "    if c not in d:\n",
    "        d[c] = 1\n",
    "    else:    \n",
    "        for key in d.keys():   \n",
    "            if  c == key:\n",
    "                d[key] = d[key]+1\n",
    "           \n",
    "       \n",
    "    \n",
    "\n",
    "print(d)"
   ]
  },
  {
   "cell_type": "code",
   "execution_count": 41,
   "id": "f092013b",
   "metadata": {
    "id": "f092013b"
   },
   "outputs": [
    {
     "name": "stdout",
     "output_type": "stream",
     "text": [
      "[1, 4, 9, 16, 25, 36, 49, 64, 81, 100]\n"
     ]
    }
   ],
   "source": [
    "#5. Generate a List of Squares of Numbers from 1 to 10\n",
    "# Question: Write a Python program to generate a list containing squares of numbers from 1 to 10.\n",
    "squareList=[]\n",
    "for n in range(1,11):\n",
    "    sq = n**2\n",
    "    squareList.append(sq)\n",
    "\n",
    "print(squareList)    \n",
    "\n"
   ]
  },
  {
   "cell_type": "code",
   "execution_count": null,
   "id": "3b44c858",
   "metadata": {
    "id": "3b44c858"
   },
   "outputs": [],
   "source": []
  },
  {
   "cell_type": "code",
   "execution_count": null,
   "id": "3d849771",
   "metadata": {
    "id": "3d849771"
   },
   "outputs": [],
   "source": []
  },
  {
   "cell_type": "code",
   "execution_count": null,
   "id": "7840dd7f",
   "metadata": {
    "id": "7840dd7f"
   },
   "outputs": [],
   "source": []
  },
  {
   "cell_type": "code",
   "execution_count": null,
   "id": "e7d58228",
   "metadata": {
    "id": "e7d58228"
   },
   "outputs": [],
   "source": []
  },
  {
   "cell_type": "code",
   "execution_count": null,
   "id": "85a782d9",
   "metadata": {
    "id": "85a782d9"
   },
   "outputs": [],
   "source": []
  }
 ],
 "metadata": {
  "colab": {
   "provenance": []
  },
  "kernelspec": {
   "display_name": "Python [conda env:base] *",
   "language": "python",
   "name": "conda-base-py"
  },
  "language_info": {
   "codemirror_mode": {
    "name": "ipython",
    "version": 3
   },
   "file_extension": ".py",
   "mimetype": "text/x-python",
   "name": "python",
   "nbconvert_exporter": "python",
   "pygments_lexer": "ipython3",
   "version": "3.13.5"
  }
 },
 "nbformat": 4,
 "nbformat_minor": 5
}
